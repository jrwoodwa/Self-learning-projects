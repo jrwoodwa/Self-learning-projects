{
 "cells": [
  {
   "cell_type": "code",
   "execution_count": 10,
   "id": "6fa5a744-9a6b-483c-83c2-35fce2882c57",
   "metadata": {},
   "outputs": [],
   "source": [
    "import numpy as np\n",
    "import pyomo.environ as pyo"
   ]
  },
  {
   "cell_type": "markdown",
   "id": "de01b56c-9e2e-48a1-9037-dfc72139cb34",
   "metadata": {},
   "source": [
    "## Chapter 19.3 Worksheet on Markov Decision Processes\n",
    "\n",
    "\"Introduction to Operations Research\" by F. Hillier and G. Lieberman, Edition 10.\n",
    "\n",
    "Chapter 19 covers pages 877 to 887: \n",
    "- Section 19.1 outlines the problem, \n",
    "- Section 19.2 presents a model, \n",
    "- Section 19.3 establishes a linear programming and mathematical optimization approach, \n",
    "- and Section 19.4 offers conclusions."
   ]
  },
  {
   "cell_type": "markdown",
   "id": "16bbfe1f-0921-4410-9ebf-f22b5f5a45e0",
   "metadata": {},
   "source": [
    "### Policies consist of decisions for each state i (Each policy is R, rows) \n",
    "R:= {d_0(R), d_1(R),...,d_M(R)} \n",
    "0) |\r\n",
    "\n",
    "\n",
    "\r\n",
    "| State | Description                          |\r\n",
    "|-------|--------------------------------------|\r\n",
    "| 0     | Good as new                         |\r\n",
    "| 1     | Operable - minor deterioration      |\r\n",
    "| 2     | Operable - major deterioration      |\r\n",
    "| 3     | Inoperable - output of unaccept\n",
    "\n",
    "\n",
    "| Decision | Description                         |\n",
    "|----------|-------------------------------------|\n",
    "| 1        | Do nothing                         |\n",
    "| 2        | Overhaul (return system to state 1) |\n",
    "| 3        | Replace (return system to state 0) |ableR),...,d_M(R)} "
   ]
  },
  {
   "cell_type": "code",
   "execution_count": 20,
   "id": "ee5d189c-269d-457f-b036-318c471f6468",
   "metadata": {},
   "outputs": [],
   "source": [
    "# R = np.array([[1, 1, 1, 3],\n",
    "#              [1, 1, 2, 3],\n",
    "#              [1, 1, 3, 3],\n",
    "#              [1, 3, 3, 3]])"
   ]
  },
  {
   "cell_type": "code",
   "execution_count": 12,
   "id": "76bba38d-05c8-48b6-890a-baadab3a7319",
   "metadata": {},
   "outputs": [],
   "source": [
    "# R\n",
    "# # array([[1, 1, 1, 3],\n",
    "# #        [1, 1, 2, 3],\n",
    "# #        [1, 1, 3, 3],\n",
    "# #        [1, 3, 3, 3]])"
   ]
  },
  {
   "cell_type": "markdown",
   "id": "0d262851-b9a3-4755-91e6-a21fcaaf865d",
   "metadata": {},
   "source": [
    "### Cost matrix (immediate + subsequent) \n",
    "\n",
    "Where i ranges from 0 to M (3), and j is the target state from 0 to M (3). (C_ij)\n",
    "\n",
    "Immediate and subsequent costs are captured from the example from 19.1-19.2 (page 883)"
   ]
  },
  {
   "cell_type": "code",
   "execution_count": 13,
   "id": "570388aa-9335-4c00-8125-8245d7b96241",
   "metadata": {},
   "outputs": [],
   "source": [
    "C = np.array([[0, np.NaN, np.NaN],\n",
    "             [1, np.NaN, 6],\n",
    "             [3, 4, 6],\n",
    "             [np.NaN, np.NaN, 6]])"
   ]
  },
  {
   "cell_type": "code",
   "execution_count": 14,
   "id": "89b02b7b-2249-41a7-9d30-45de4c5f410e",
   "metadata": {},
   "outputs": [
    {
     "data": {
      "text/plain": [
       "array([[ 0., nan, nan],\n",
       "       [ 1., nan,  6.],\n",
       "       [ 3.,  4.,  6.],\n",
       "       [nan, nan,  6.]])"
      ]
     },
     "execution_count": 14,
     "metadata": {},
     "output_type": "execute_result"
    }
   ],
   "source": [
    "C"
   ]
  },
  {
   "cell_type": "code",
   "execution_count": 15,
   "id": "d0e0f913-3bc3-407f-8581-c0880b6888c5",
   "metadata": {},
   "outputs": [
    {
     "name": "stdout",
     "output_type": "stream",
     "text": [
      "Valid (i, k) pairs for Pyomo: [(0, 1), (1, 1), (1, 3), (2, 1), (2, 2), (2, 3), (3, 3)]\n",
      "Boolean Mask:\n",
      " [[ True False False]\n",
      " [ True False  True]\n",
      " [ True  True  True]\n",
      " [False False  True]]\n"
     ]
    }
   ],
   "source": [
    "# Visualizing the valid transitions \n",
    "\n",
    "# Create a boolean mask (True where not NaN, False where NaN)\n",
    "mask = ~np.isnan(C)\n",
    "\n",
    "# Extract row indices (0-based) and depth indices (1-based for Pyomo)\n",
    "row_idx, depth_idx = np.where(mask)\n",
    "depth_idx += 1  # Convert to 1-based for Pyomo\n",
    "\n",
    "# Combine indices into tuples\n",
    "valid_pairs = list(zip(row_idx, depth_idx))\n",
    "\n",
    "# Print results\n",
    "print(\"Valid (i, k) pairs for Pyomo:\", valid_pairs)\n",
    "print(\"Boolean Mask:\\n\", mask)"
   ]
  },
  {
   "cell_type": "markdown",
   "id": "aa76e44a-0fc3-4fb1-a1b2-36ed79d4578e",
   "metadata": {},
   "source": [
    "### Original Transition Probabilities (Base level or \"Do Nothing\")\n",
    "\n",
    "Page 882 outlines Policy R_a, a \"do nothing\" policy. It assumes that to keep all states accessible and prevent them from absorbing into one state in the long run (steady state), the machine must be replaced when it deteriorates.\n",
    "\n",
    "The main transition matrix starts with \"do nothing\" in Decision 1."
   ]
  },
  {
   "cell_type": "code",
   "execution_count": 16,
   "id": "93d39628-a99e-4979-a1a9-54a14457663b",
   "metadata": {},
   "outputs": [],
   "source": [
    "P0 = np.array([[0, 7/8, 1/16, 1/16],\n",
    "              [0, 3/4, 1/8, 1/8],\n",
    "              [0, 0, 1/2, 1/2],\n",
    "              [1, 0, 0, 0]])"
   ]
  },
  {
   "cell_type": "code",
   "execution_count": 17,
   "id": "f5893885-446c-4dcc-a1ed-6eec5cc65167",
   "metadata": {},
   "outputs": [
    {
     "data": {
      "text/plain": [
       "array([[0.    , 0.875 , 0.0625, 0.0625],\n",
       "       [0.    , 0.75  , 0.125 , 0.125 ],\n",
       "       [0.    , 0.    , 0.5   , 0.5   ],\n",
       "       [1.    , 0.    , 0.    , 0.    ]])"
      ]
     },
     "execution_count": 17,
     "metadata": {},
     "output_type": "execute_result"
    }
   ],
   "source": [
    "P0"
   ]
  },
  {
   "cell_type": "markdown",
   "id": "4adf8065-ebe5-4fe9-9fbc-8f3a5ff4b27e",
   "metadata": {},
   "source": [
    "### Mapping Transition Matrix to Decision/Action"
   ]
  },
  {
   "cell_type": "code",
   "execution_count": 21,
   "id": "65efcffc-709d-4337-ae2f-c9a3c12884b6",
   "metadata": {},
   "outputs": [
    {
     "name": "stdout",
     "output_type": "stream",
     "text": [
      "Decision 1:\n",
      "[[0.     0.875  0.0625 0.0625]\n",
      " [0.     0.75   0.125  0.125 ]\n",
      " [0.     0.     0.5    0.5   ]\n",
      " [1.     0.     0.     0.    ]]\n",
      "\n",
      "Decision 2:\n",
      "[[0. 1. 0. 0.]\n",
      " [0. 1. 0. 0.]\n",
      " [0. 1. 0. 0.]\n",
      " [0. 1. 0. 0.]]\n",
      "\n",
      "Decision 3:\n",
      "[[1. 0. 0. 0.]\n",
      " [1. 0. 0. 0.]\n",
      " [1. 0. 0. 0.]\n",
      " [1. 0. 0. 0.]]\n",
      "\n"
     ]
    }
   ],
   "source": [
    "# Get dimensions\n",
    "n_states, n_decisions = C.shape  # states, policies\n",
    "\n",
    "# Initialize p_ijk as zeros\n",
    "p_ijk = np.zeros((n_states, n_states, n_decisions))\n",
    "\n",
    "# Set Decision 1 to use P0\n",
    "p_ijk[:, :, 0] = P0  # First decision (do-nothing) gets P0\n",
    "\n",
    "# Decision map\n",
    "decision_transform = {\n",
    "    2: np.array([0, 1, 0, 0]),\n",
    "    3: np.array([1, 0, 0, 0])\n",
    "}\n",
    "\n",
    "# Apply transition changes only for actions > 1\n",
    "for decision, replacement in decision_transform.items():\n",
    "    action_idx = decision - 1  # 1-based to 0\n",
    "    p_ijk[:, :, action_idx] = replacement  # Replace transition\n",
    "\n",
    "# Print matrices for each action\n",
    "for k in range(n_decisions):\n",
    "    print(f\"Decision {k+1}:\\n{p_ijk[:, :, k]}\\n\")\n"
   ]
  },
  {
   "cell_type": "code",
   "execution_count": null,
   "id": "fcf753f0-6e09-4333-ad93-1da67a77c1c5",
   "metadata": {},
   "outputs": [],
   "source": [
    "p_ijk"
   ]
  },
  {
   "cell_type": "code",
   "execution_count": null,
   "id": "649a824e-51c1-49aa-8bec-0995956036e1",
   "metadata": {},
   "outputs": [],
   "source": [
    "p_ijk[:,:,0]"
   ]
  },
  {
   "cell_type": "code",
   "execution_count": null,
   "id": "dd70912f-08a9-4f3f-a9a1-6e15bc5dc31e",
   "metadata": {},
   "outputs": [],
   "source": [
    "p_ijk[:,:,1]"
   ]
  },
  {
   "cell_type": "code",
   "execution_count": null,
   "id": "f68f4d6b-bf90-46af-a622-0e9fda19e4bb",
   "metadata": {},
   "outputs": [],
   "source": [
    "p_ijk[:,:,2]"
   ]
  },
  {
   "cell_type": "markdown",
   "id": "6553afad-7720-4e6d-b59b-60ccaf2ddef0",
   "metadata": {},
   "source": [
    "### Pyomo Model"
   ]
  },
  {
   "cell_type": "code",
   "execution_count": null,
   "id": "2fa04b5f-f9f8-474c-bde7-f470a8e7bcef",
   "metadata": {},
   "outputs": [],
   "source": [
    "import pyomo.environ as pyo\n",
    "import numpy as np\n",
    "\n",
    "# Pyomo Model Function\n",
    "def create_linear_program(objective_coefficients, \n",
    "                                 p_ijk,\n",
    "                                 name=\"\",\n",
    "                                 debug=True):\n",
    "    # Create model\n",
    "    model = pyo.ConcreteModel(name=name)\n",
    "\n",
    "    # Define sets\n",
    "    n = p_ijk.shape[0]  # Number of states\n",
    "    k = p_ijk.shape[2]  # Number of decisions\n",
    "\n",
    "    model.rows = pyo.RangeSet(0, n - 1) \n",
    "    model.columns = pyo.RangeSet(0, n - 1) \n",
    "    model.depths = pyo.RangeSet(1, k)  # Depths are 1-based\n",
    "\n",
    "    # Parameters/Variables\n",
    "    # Extract valid (row, depth) pairs\n",
    "    mask = ~np.isnan(objective_coefficients) # np.NaN indicate the impossible transitions\n",
    "    row_idx, depth_idx = np.where(mask)\n",
    "    depth_idx += 1  # Convert to 1-based for Pyomo\n",
    "    valid_pairs = list(zip(row_idx, depth_idx))\n",
    "    \n",
    "    # Filtered Decision Variable Set\n",
    "    model.valid_pairs = pyo.Set(initialize=valid_pairs)  # Only valid (i, k)\n",
    "\n",
    "    # Decision Variables (Only for valid (i, k) pairs)\n",
    "    model.y_ik = pyo.Var(model.valid_pairs, \n",
    "                         within=pyo.NonNegativeReals) # non-negativity constraints\n",
    "\n",
    "    # Objective Coefficients (C_ik)\n",
    "    def C_init(model, i, k):\n",
    "        return objective_coefficients[i, k - 1]  # k is 1-based\n",
    "    model.C_ik = pyo.Param(model.valid_pairs, initialize=C_init)\n",
    "\n",
    "    # Transition Probabilities (p_ijk)\n",
    "    def p_init(model, i, j, k):\n",
    "        return p_ijk[i, j, k - 1]  # k is 1-based\n",
    "    model.p_ijk = pyo.Param(model.rows, model.columns, model.depths,\n",
    "                            initialize=p_init, default=0)\n",
    "\n",
    "    # Objective Function\n",
    "    model.objective = pyo.Objective(\n",
    "        expr=sum(model.C_ik[i, k] * model.y_ik[i, k] for (i, k) in model.valid_pairs),\n",
    "        sense=pyo.minimize)\n",
    "\n",
    "    # Constraint: Σ y_ik == 1 (100% probability over valid (i, k))\n",
    "    def sum_to_1(model):\n",
    "        return sum(model.y_ik[i, k] for (i, k) in model.valid_pairs) == 1\n",
    "    model.sum_to_1 = pyo.Constraint(rule=sum_to_1)\n",
    "\n",
    "    # Constraint: Flow Conservation Σ_k{y_jk} - Σ_i,k{y_ik * p_ijk} == 0 ∀j\n",
    "    def flow_conservation(model, j): \n",
    "        return sum(model.y_ik[j, k] for k in model.depths if (j, k) in model.valid_pairs) \\\n",
    "             - sum(model.y_ik[i, k] * model.p_ijk[i, j, k] \n",
    "                   for (i, k) in model.valid_pairs) == 0\n",
    "    model.flow_conservation = pyo.Constraint(model.columns, rule=flow_conservation)\n",
    "\n",
    "    return model"
   ]
  },
  {
   "cell_type": "code",
   "execution_count": null,
   "id": "f6f9e7a4-f97d-4c25-8971-371fcf15ed74",
   "metadata": {},
   "outputs": [],
   "source": [
    "# Create and solve model (used glpk, but gurobi or other solvers like cbc, highs, etc usable)\n",
    "modelname = \"Test\"\n",
    "model = create_linear_program(C, p_ijk, name=modelname)\n",
    "\n",
    "solver = pyo.SolverFactory('glpk')\n",
    "solver.solve(model, \n",
    "             tee=True)"
   ]
  },
  {
   "cell_type": "code",
   "execution_count": null,
   "id": "f6a5ac33-a048-4111-9247-20d48b417038",
   "metadata": {},
   "outputs": [],
   "source": [
    "def display_results(model, \n",
    "                    precision=1, \n",
    "                    name = \"\", # model name\n",
    "                    verbose = True,\n",
    "                   sensitivity = False):\n",
    "    print(f\"Model: {model.name}\")\n",
    "    print(f\"Objective Value: {pyo.value(model.objective):.{precision}f}\")\n",
    "    print(\"Decision Variables:\")\n",
    " \n",
    "    # Locate variables\n",
    "    for variable in model.component_objects(pyo.Var, # used for grabbing the variables\n",
    "                                            descend_into=True): # used to go sub-nests (nested russian doll)\n",
    "        # Iterate\n",
    "        for ii in variable:\n",
    "            variable_value = pyo.value(variable[ii])\n",
    "            print(f\"\\t{variable[ii].name} = {variable_value:.{precision}f}\")\n",
    "    print(\"\\n\")\n",
    "    \n",
    "    \n",
    "    if verbose: # if verbose outputting is OK\n",
    "        # Objective function:\n",
    "        model.objective.pprint()\n",
    "        \n",
    "        print(\"\\n\")\n",
    "\n",
    "        # All Constraints\n",
    "        for constraint_name, constraint in model.component_map(pyo.Constraint).items():\n",
    "            print(f\"Constraint: {constraint_name}\")\n",
    "            constraint.pprint() # print constraint details\n",
    "        print(\"\\n------------------\\n\")\n",
    "\n",
    "# Displaying results\n",
    "display_results(model, \n",
    "                name = modelname,\n",
    "                precision = 3, \n",
    "                verbose = True # integer answers but real valued decision variables\n",
    "               )"
   ]
  },
  {
   "cell_type": "markdown",
   "id": "72e45d77-c692-4609-835f-57419492c6ca",
   "metadata": {},
   "source": [
    "#### Checking values"
   ]
  },
  {
   "cell_type": "code",
   "execution_count": null,
   "id": "bb56ea4a-0ca0-4f59-bdb8-7c03051f6034",
   "metadata": {},
   "outputs": [],
   "source": [
    "round(5/7,3) # known exact values"
   ]
  },
  {
   "cell_type": "code",
   "execution_count": null,
   "id": "744dca35-8835-4bc8-908b-ddaacb266886",
   "metadata": {},
   "outputs": [],
   "source": [
    "round(2/21,3) # known exact values"
   ]
  },
  {
   "cell_type": "markdown",
   "id": "580a597b-4af1-44fb-9732-481cae1184e3",
   "metadata": {},
   "source": [
    "#### Extracting Outputs"
   ]
  },
  {
   "cell_type": "code",
   "execution_count": null,
   "id": "8b79de13-3399-438b-828f-57d6771d0d8a",
   "metadata": {},
   "outputs": [],
   "source": [
    "# Extract y_ik values\n",
    "y_values = {(i, k): pyo.value(model.y_ik[i, k]) for (i, k) in model.valid_pairs}\n",
    "\n",
    "print('Steady-state unconditional probabilities the system is in state i and decision k is made')\n",
    "print('P{state = i and decision = k)')\n",
    "display(y_values)\n",
    "\n",
    "# Compute sum over k for each i\n",
    "row_sums = {i: sum(y_values[i, k] for k in model.depths if (i, k) in y_values)\n",
    "            for i in model.rows}\n",
    "\n",
    "print(f'\\nSteady_state probabilities π[i]):{row_sums}')\n",
    "\n",
    "# Compute D_ik as normalized values\n",
    "D_ik = {(i, k): int(y_values[i, k] / row_sums[i]) for (i, k) in y_values}\n",
    "\n",
    "# Print the normalized decision values\n",
    "print(\"\\nNormalized Decision Variables D[i,k]:\")\n",
    "prev_i = None\n",
    "for (i, k), val in D_ik.items():\n",
    "    if i != prev_i:  # Check if 'i' changes\n",
    "        if i != 0:\n",
    "            print(\"\\n\")   # Print a new line\n",
    "        prev_i = i    # Update previous i\n",
    "    print(f\"D[{i},{k}] = {val:.0f}\")"
   ]
  },
  {
   "cell_type": "markdown",
   "id": "ba1688aa-8e4b-4c54-a853-0b3e448d7c9f",
   "metadata": {},
   "source": [
    "#### Notes:\n",
    "- The policy states to leave the machine as is (decision 1) in states 0 or 1,\n",
    "- overhaul it (decision 2) in state 2,\n",
    "- and replace it (decision 3) in state 3.\n",
    "\n",
    "This is the same optimal policy identified through exhaustive enumeration in Section 19.2. (Used Grammarly to edit \"Intro to Operations Research\" by Hillier and Lieberman, Edition 10, Page 887, paragraph 2)"
   ]
  },
  {
   "cell_type": "markdown",
   "id": "51c4614e-4955-4b46-8c9f-5cfff8823461",
   "metadata": {},
   "source": [
    "### LP Sensitivity Reports\n",
    "\n",
    "Providing sensitivity analysis is a best practice with linear programming models; the Gurobi and GLPK exports below serve this purpose."
   ]
  },
  {
   "cell_type": "code",
   "execution_count": null,
   "id": "d138298b-08fd-4686-9cb2-8addae052554",
   "metadata": {},
   "outputs": [],
   "source": [
    "import pyomo.environ as pyo\n",
    "\n",
    "def solve_and_export_sensitivity(model, solver_name=\"gurobi\", output_filename=\"sensit.sen\"):\n",
    "    \"\"\"\n",
    "    Solves the Pyomo model and exports sensitivity analysis if supported.\n",
    "    \n",
    "    Parameters:\n",
    "    - model: Pyomo model instance\n",
    "    - solver_name: 'gurobi' or 'glpk'\n",
    "    - export_sensitivity: Boolean flag to enable sensitivity analysis export\n",
    "    - output_filename: Filename for sensitivity analysis output\n",
    "    \"\"\"\n",
    "    \n",
    "    # Select Solver\n",
    "    solver = pyo.SolverFactory(solver_name)\n",
    "\n",
    "    output_filename = solver_name + \"_\" + output_filename\n",
    "    \n",
    "    # Ensure solver supports sensitivity analysis\n",
    "    if solver_name not in [\"gurobi\", \"glpk\"]:\n",
    "        print(f\"Warning: Sensitivity analysis is not supported for {solver_name}. Skipping export.\")\n",
    "\n",
    "    # Solve model\n",
    "    results = solver.solve(model, \n",
    "                           suffixes=[\"dual\", \"rc\"])\n",
    "\n",
    "    # Check if the solution is optimal\n",
    "    if (results.solver.status != pyo.SolverStatus.ok) or (results.solver.termination_condition != pyo.TerminationCondition.optimal):\n",
    "        print(\"Optimal solution not found. Sensitivity analysis unavailable.\")\n",
    "        return results\n",
    "\n",
    "    if solver_name == \"gurobi\":\n",
    "        # Add suffixes for reduced costs and shadow prices\n",
    "        model.dual = pyo.Suffix(direction=pyo.Suffix.IMPORT)\n",
    "        model.rc = pyo.Suffix(direction=pyo.Suffix.IMPORT)\n",
    "\n",
    "        # Solve again to populate suffix values\n",
    "        solver.solve(model,\n",
    "                     suffixes=[\"dual\", \"rc\"])\n",
    "\n",
    "        # Save manually extracted sensitivity results\n",
    "        with open(output_filename, \"w\") as f:\n",
    "            f.write(\"Sensitivity Analysis (Dual Prices and Reduced Costs)\\n\")\n",
    "            f.write(\"=\" * 50 + \"\\n\")\n",
    "\n",
    "            # Shadow prices (dual values)\n",
    "            f.write(\"Shadow Prices (Duals):\\n\")\n",
    "            for c in model.component_objects(pyo.Constraint, active=True):\n",
    "                for index in c:\n",
    "                    f.write(f\"{c.name}[{index}]: {model.dual[c[index]]}\\n\")\n",
    "\n",
    "            f.write(\"\\nReduced Costs:\\n\")\n",
    "            for v in model.component_objects(pyo.Var, active=True):\n",
    "                for index in v:\n",
    "                    f.write(f\"{v.name}[{index}]: {model.rc[v[index]]}\\n\")\n",
    "\n",
    "        print(f\"Sensitivity report saved to {output_filename}\")\n",
    "\n",
    "    elif solver_name == \"glpk\":\n",
    "        # GLPK supports direct sensitivity analysis output\n",
    "        model.write(\"model.lp\")\n",
    "        os.system(f\"glpsol --lp model.lp --ranges {output_filename}\")\n",
    "        print(f\"Sensitivity report saved to {output_filename}\")\n",
    "\n",
    "    return results\n"
   ]
  },
  {
   "cell_type": "code",
   "execution_count": null,
   "id": "5d7ea41a-eb22-4aa5-a559-902738b4f50b",
   "metadata": {},
   "outputs": [],
   "source": [
    "solve_and_export_sensitivity(model, solver_name=\"glpk\")"
   ]
  },
  {
   "cell_type": "code",
   "execution_count": null,
   "id": "bd58db1e-fb09-4149-a8c5-e226cceeefe6",
   "metadata": {},
   "outputs": [],
   "source": [
    "solve_and_export_sensitivity(model, solver_name=\"gurobi\")"
   ]
  }
 ],
 "metadata": {
  "kernelspec": {
   "display_name": "Python (MathOpt)",
   "language": "python",
   "name": "mathopt"
  },
  "language_info": {
   "codemirror_mode": {
    "name": "ipython",
    "version": 3
   },
   "file_extension": ".py",
   "mimetype": "text/x-python",
   "name": "python",
   "nbconvert_exporter": "python",
   "pygments_lexer": "ipython3",
   "version": "3.10.2"
  }
 },
 "nbformat": 4,
 "nbformat_minor": 5
}
